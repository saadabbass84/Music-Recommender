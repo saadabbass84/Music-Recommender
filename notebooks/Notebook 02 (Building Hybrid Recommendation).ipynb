{
 "cells": [
  {
   "cell_type": "markdown",
   "metadata": {},
   "source": [
    "# Music Recommendation System\n",
    "## Notebook 02 : Building a Recommender\n",
    "\n",
    "**Author**: Saad Abbas    \n",
    "**Date**: 30 May 2019\n",
    "______________________________________________________________________________________________________________________________"
   ]
  },
  {
   "cell_type": "markdown",
   "metadata": {},
   "source": [
    "## Contents <a name=\"contents\"></a>\n",
    "- [1.0 Introduction](#introduction)\n",
    "- [2.0 Data Loading and Preprocessing](#load)\n",
    "- [3.0 Content-Based Filtering](#content)\n",
    "- [4.0 Collaborative Recommendation](#collaborative)\n",
    "    - [4.1 Initial evaluation of predictive models](#initial)\n",
    "    - [4.2 Hyper-parameter tuning](#hyperparameter)\n",
    "- [5.0 Making Recommendations](#recommendations)\n",
    "    - [5.1 Recommendations for existing users](#existing)\n",
    "    - [5.2 Recommendations for new users](#new)\n",
    "- [6.0 Conclusion](#conclusion)"
   ]
  },
  {
   "cell_type": "markdown",
   "metadata": {},
   "source": [
    "## 1.0 Introduction <a id='introduction'></a>\n",
    "This project is based on the [KK-Box Music Recommendation Challenge](https://www.kaggle.com/c/kkbox-music-recommendation-challenge) hosted on Kaggle. I have split it into two notebooks (preliminary analysis and predictive modelling).\n",
    "\n",
    "This notebook will focus on building a Recommendation System using the [Scikit-Surprise](http://surpriselib.com/) library.\n",
    "\n",
    "The key deliverables of this notebook are as follows:\n",
    "- Testing different algorithms for best performance\n",
    "- Fine tune the selected model to improve accuray\n",
    "- Create function for song recommendation using the trained model\n",
    "\n",
    "For description and definitions of the dataset, please refer Notebook 01."
   ]
  },
  {
   "cell_type": "code",
   "execution_count": 218,
   "metadata": {},
   "outputs": [],
   "source": [
    "# general libraries\n",
    "import pandas as pd\n",
    "import numpy as np\n",
    "from time import time\n",
    "from tqdm import tqdm\n",
    "from pathlib import Path\n",
    "from itertools import product\n",
    "import dill\n",
    "\n",
    "# Libraries for visualizations\n",
    "import seaborn as sns\n",
    "import matplotlib.pyplot as plt\n",
    "import matplotlib.gridspec as gridspec\n",
    "sns.set_style('darkgrid')\n",
    "\n",
    "# scikit-learn preprocessing and metrics\n",
    "from sklearn.feature_extraction.text import TfidfVectorizer\n",
    "from sklearn.preprocessing import MinMaxScaler\n",
    "from sklearn.metrics import roc_curve, auc, accuracy_score, confusion_matrix\n",
    "\n",
    "# scipy similarity functions\n",
    "from scipy.sparse import csr_matrix\n",
    "from scipy.spatial.distance import cosine\n",
    "\n",
    "# scikit-surprise algorithms\n",
    "from surprise import Reader, Dataset, KNNBasic, SVD, BaselineOnly, \\\n",
    "                     SVDpp, NMF, CoClustering, Trainset, dump\n",
    "from surprise.model_selection import train_test_split"
   ]
  },
  {
   "cell_type": "markdown",
   "metadata": {},
   "source": [
    "## 2.0 Data Loading and Preprocessing<a id='load'></a>"
   ]
  },
  {
   "cell_type": "markdown",
   "metadata": {},
   "source": [
    "The data I am using is a smaller subset of the Kaggle challenge dataset. Let us read in the csv files and have a sense of the items in our data."
   ]
  },
  {
   "cell_type": "code",
   "execution_count": 179,
   "metadata": {},
   "outputs": [],
   "source": [
    "datapath = Path('../datasets/')\n",
    "\n",
    "data = pd.read_csv(datapath / 'train_small.csv')\n",
    "songs = pd.read_csv(datapath / 'songs_small_modified.csv')"
   ]
  },
  {
   "cell_type": "code",
   "execution_count": 180,
   "metadata": {},
   "outputs": [
    {
     "name": "stdout",
     "output_type": "stream",
     "text": [
      "Count of user-item sets in data: 1,106,612\n",
      "Count of unique users in data: 28,037\n",
      "Count of unique songs in data: 141,032\n"
     ]
    }
   ],
   "source": [
    "print('Count of user-item sets in data: {:,}'.format(data.shape[0]))\n",
    "print('Count of unique users in data: {:,}'.format(data['msno'].nunique()))\n",
    "print('Count of unique songs in data: {:,}'.format(data['song_id'].nunique()))"
   ]
  },
  {
   "cell_type": "code",
   "execution_count": 181,
   "metadata": {},
   "outputs": [
    {
     "name": "stdout",
     "output_type": "stream",
     "text": [
      "Count of unique artists in songs: 21,118\n"
     ]
    }
   ],
   "source": [
    "print('Count of unique artists in songs: {:,}'.format(songs['artist_name'].nunique()))"
   ]
  },
  {
   "cell_type": "markdown",
   "metadata": {},
   "source": [
    "There are some null values in the columns; however we will be using collaborative filtering for this project which is not going to take those columns into account, so there is no need to impute any values in there."
   ]
  },
  {
   "cell_type": "code",
   "execution_count": 182,
   "metadata": {},
   "outputs": [
    {
     "name": "stdout",
     "output_type": "stream",
     "text": [
      "<class 'pandas.core.frame.DataFrame'>\n",
      "RangeIndex: 141032 entries, 0 to 141031\n",
      "Data columns (total 10 columns):\n",
      "song_id              141032 non-null object\n",
      "song_length          141019 non-null float64\n",
      "genre_ids            141032 non-null object\n",
      "artist_name          141019 non-null object\n",
      "composer             141032 non-null object\n",
      "lyricist             141032 non-null object\n",
      "language             118634 non-null object\n",
      "name                 141032 non-null object\n",
      "isrc                 141032 non-null object\n",
      "song_length_group    141032 non-null object\n",
      "dtypes: float64(1), object(9)\n",
      "memory usage: 10.8+ MB\n"
     ]
    }
   ],
   "source": [
    "songs.info()"
   ]
  },
  {
   "cell_type": "markdown",
   "metadata": {},
   "source": [
    "Some the columns in the songs dataframe are important for our first step (building a simple recommender using song metadata similarity). I will impute some of these values in the below code."
   ]
  },
  {
   "cell_type": "code",
   "execution_count": 183,
   "metadata": {},
   "outputs": [],
   "source": [
    "# Fill null values for song dataset\n",
    "songs['song_length'] = songs['song_length'].fillna(songs['song_length'].mean())\n",
    "songs['name'] = songs['name'].fillna('-not_available-')\n",
    "songs['artist_name'] = songs['artist_name'].fillna('-not_available-')\n",
    "songs['language'] = songs['language'].fillna(songs['language'].mode()[0])\n",
    "for col in ['genre_ids', 'composer', 'lyricist']:\n",
    "    songs[col] = songs[col].fillna(' ')\n",
    "\n",
    "# Drop irrelevant columns\n",
    "songs = songs.drop(['isrc'], axis=1).reset_index(drop=True)"
   ]
  },
  {
   "cell_type": "markdown",
   "metadata": {},
   "source": [
    "In order to make the code easier to run and debug, I will change all the user and song ID values to integers."
   ]
  },
  {
   "cell_type": "code",
   "execution_count": 184,
   "metadata": {},
   "outputs": [
    {
     "data": {
      "text/plain": [
       "(28037, 141032, 141032)"
      ]
     },
     "execution_count": 184,
     "metadata": {},
     "output_type": "execute_result"
    }
   ],
   "source": [
    "# Change the user and song id to integers\n",
    "new_users = pd.DataFrame({'msno': data['msno'].unique(), \n",
    "                          'new_msno': [i for i in range(1, data['msno'].nunique()+1)]})\n",
    "songs['new_song_id'] = [i for i in range(1, songs['song_id'].nunique()+1)]\n",
    "\n",
    "data = data.merge(new_users, how='left', on='msno')\n",
    "data = data.merge(songs, how='left', on='song_id')\n",
    "\n",
    "data = data[['new_msno', 'new_song_id', 'target']]\n",
    "data.columns = ['msno', 'song_id', 'target']\n",
    "\n",
    "songs = songs[['new_song_id', 'song_length', 'genre_ids', 'artist_name', 'composer', 'lyricist', 'language', 'name']]\n",
    "songs.columns = ['song_id', 'song_length', 'genre_ids', 'artist_name', 'composer', 'lyricist', 'language', 'name']\n",
    "data['msno'].nunique(), data['song_id'].nunique(), songs['song_id'].nunique()"
   ]
  },
  {
   "cell_type": "markdown",
   "metadata": {},
   "source": [
    "## 3.0 Content-Based Filtering <a name=\"content\"></a>\n",
    "\n",
    "One of the simplest methods of making a media recommender is to recommend items that have similar features to the ones a user already likes or has rated highly. This is done using the metadata available for the song or media. In our case, the features of songs available are as follows:\n",
    "- Song Name\n",
    "- Artist Name\n",
    "- Lyricist Name\n",
    "- Composer Name\n",
    "- Genre\n",
    "- Song Length\n",
    "- Language\n",
    "\n",
    "The song name, artist name, lyricist and composer are quite unique to each song, and will not give beneficial results when checking for song similarity. The useful features we can utilize are the genre's, song lengths and language.\n",
    "\n",
    "For the genre's, I am going to vectorize them using Tf-Idf vectoriser to create a vector space of features. I will append this with song length and language, to get a matrix of song metadata."
   ]
  },
  {
   "cell_type": "code",
   "execution_count": 185,
   "metadata": {},
   "outputs": [],
   "source": [
    "# Column vectorizer function\n",
    "def vectorize(column):\n",
    "    splitted = column.map(lambda x: ' '.join([each for each in x.replace('|',' ').split()]))\n",
    "    tfidf = TfidfVectorizer().fit(splitted)\n",
    "    vector_df = pd.DataFrame(tfidf.transform(splitted).todense(), columns=tfidf.get_feature_names())\n",
    "    return vector_df"
   ]
  },
  {
   "cell_type": "code",
   "execution_count": 186,
   "metadata": {},
   "outputs": [],
   "source": [
    "# Convert genre_ids to spaced text and vectorize\n",
    "genre_vec = vectorize(songs['genre_ids'])"
   ]
  },
  {
   "cell_type": "code",
   "execution_count": 189,
   "metadata": {},
   "outputs": [
    {
     "data": {
      "text/html": [
       "<div>\n",
       "<style scoped>\n",
       "    .dataframe tbody tr th:only-of-type {\n",
       "        vertical-align: middle;\n",
       "    }\n",
       "\n",
       "    .dataframe tbody tr th {\n",
       "        vertical-align: top;\n",
       "    }\n",
       "\n",
       "    .dataframe thead th {\n",
       "        text-align: right;\n",
       "    }\n",
       "</style>\n",
       "<table border=\"1\" class=\"dataframe\">\n",
       "  <thead>\n",
       "    <tr style=\"text-align: right;\">\n",
       "      <th></th>\n",
       "      <th>1007</th>\n",
       "      <th>1011</th>\n",
       "      <th>1019</th>\n",
       "      <th>102</th>\n",
       "      <th>1026</th>\n",
       "      <th>1033</th>\n",
       "      <th>1040</th>\n",
       "      <th>1047</th>\n",
       "      <th>1054</th>\n",
       "      <th>1068</th>\n",
       "      <th>...</th>\n",
       "      <th>947</th>\n",
       "      <th>95</th>\n",
       "      <th>958</th>\n",
       "      <th>965</th>\n",
       "      <th>972</th>\n",
       "      <th>979</th>\n",
       "      <th>986</th>\n",
       "      <th>993</th>\n",
       "      <th>na</th>\n",
       "      <th>song_length</th>\n",
       "    </tr>\n",
       "  </thead>\n",
       "  <tbody>\n",
       "    <tr>\n",
       "      <th>0</th>\n",
       "      <td>0.0</td>\n",
       "      <td>0.0</td>\n",
       "      <td>0.0</td>\n",
       "      <td>0.0</td>\n",
       "      <td>0.0</td>\n",
       "      <td>0.0</td>\n",
       "      <td>0.0</td>\n",
       "      <td>0.0</td>\n",
       "      <td>0.0</td>\n",
       "      <td>0.0</td>\n",
       "      <td>...</td>\n",
       "      <td>0.0</td>\n",
       "      <td>0.0</td>\n",
       "      <td>0.0</td>\n",
       "      <td>0.0</td>\n",
       "      <td>0.0</td>\n",
       "      <td>0.0</td>\n",
       "      <td>0.0</td>\n",
       "      <td>0.0</td>\n",
       "      <td>0.0</td>\n",
       "      <td>0.018052</td>\n",
       "    </tr>\n",
       "    <tr>\n",
       "      <th>1</th>\n",
       "      <td>0.0</td>\n",
       "      <td>0.0</td>\n",
       "      <td>0.0</td>\n",
       "      <td>0.0</td>\n",
       "      <td>0.0</td>\n",
       "      <td>0.0</td>\n",
       "      <td>0.0</td>\n",
       "      <td>0.0</td>\n",
       "      <td>0.0</td>\n",
       "      <td>0.0</td>\n",
       "      <td>...</td>\n",
       "      <td>0.0</td>\n",
       "      <td>0.0</td>\n",
       "      <td>0.0</td>\n",
       "      <td>0.0</td>\n",
       "      <td>0.0</td>\n",
       "      <td>0.0</td>\n",
       "      <td>0.0</td>\n",
       "      <td>0.0</td>\n",
       "      <td>0.0</td>\n",
       "      <td>0.021242</td>\n",
       "    </tr>\n",
       "    <tr>\n",
       "      <th>2</th>\n",
       "      <td>0.0</td>\n",
       "      <td>0.0</td>\n",
       "      <td>0.0</td>\n",
       "      <td>0.0</td>\n",
       "      <td>0.0</td>\n",
       "      <td>0.0</td>\n",
       "      <td>0.0</td>\n",
       "      <td>0.0</td>\n",
       "      <td>0.0</td>\n",
       "      <td>0.0</td>\n",
       "      <td>...</td>\n",
       "      <td>0.0</td>\n",
       "      <td>0.0</td>\n",
       "      <td>0.0</td>\n",
       "      <td>0.0</td>\n",
       "      <td>0.0</td>\n",
       "      <td>0.0</td>\n",
       "      <td>0.0</td>\n",
       "      <td>0.0</td>\n",
       "      <td>0.0</td>\n",
       "      <td>0.025111</td>\n",
       "    </tr>\n",
       "    <tr>\n",
       "      <th>3</th>\n",
       "      <td>0.0</td>\n",
       "      <td>0.0</td>\n",
       "      <td>0.0</td>\n",
       "      <td>0.0</td>\n",
       "      <td>0.0</td>\n",
       "      <td>0.0</td>\n",
       "      <td>0.0</td>\n",
       "      <td>0.0</td>\n",
       "      <td>0.0</td>\n",
       "      <td>0.0</td>\n",
       "      <td>...</td>\n",
       "      <td>0.0</td>\n",
       "      <td>0.0</td>\n",
       "      <td>0.0</td>\n",
       "      <td>0.0</td>\n",
       "      <td>0.0</td>\n",
       "      <td>0.0</td>\n",
       "      <td>0.0</td>\n",
       "      <td>0.0</td>\n",
       "      <td>0.0</td>\n",
       "      <td>0.012773</td>\n",
       "    </tr>\n",
       "    <tr>\n",
       "      <th>4</th>\n",
       "      <td>0.0</td>\n",
       "      <td>0.0</td>\n",
       "      <td>0.0</td>\n",
       "      <td>0.0</td>\n",
       "      <td>0.0</td>\n",
       "      <td>0.0</td>\n",
       "      <td>0.0</td>\n",
       "      <td>0.0</td>\n",
       "      <td>0.0</td>\n",
       "      <td>0.0</td>\n",
       "      <td>...</td>\n",
       "      <td>0.0</td>\n",
       "      <td>0.0</td>\n",
       "      <td>0.0</td>\n",
       "      <td>0.0</td>\n",
       "      <td>0.0</td>\n",
       "      <td>0.0</td>\n",
       "      <td>0.0</td>\n",
       "      <td>0.0</td>\n",
       "      <td>0.0</td>\n",
       "      <td>0.021589</td>\n",
       "    </tr>\n",
       "  </tbody>\n",
       "</table>\n",
       "<p>5 rows × 150 columns</p>\n",
       "</div>"
      ],
      "text/plain": [
       "   1007  1011  1019  102  1026  1033  1040  1047  1054  1068  ...  947   95  \\\n",
       "0   0.0   0.0   0.0  0.0   0.0   0.0   0.0   0.0   0.0   0.0  ...  0.0  0.0   \n",
       "1   0.0   0.0   0.0  0.0   0.0   0.0   0.0   0.0   0.0   0.0  ...  0.0  0.0   \n",
       "2   0.0   0.0   0.0  0.0   0.0   0.0   0.0   0.0   0.0   0.0  ...  0.0  0.0   \n",
       "3   0.0   0.0   0.0  0.0   0.0   0.0   0.0   0.0   0.0   0.0  ...  0.0  0.0   \n",
       "4   0.0   0.0   0.0  0.0   0.0   0.0   0.0   0.0   0.0   0.0  ...  0.0  0.0   \n",
       "\n",
       "   958  965  972  979  986  993   na  song_length  \n",
       "0  0.0  0.0  0.0  0.0  0.0  0.0  0.0     0.018052  \n",
       "1  0.0  0.0  0.0  0.0  0.0  0.0  0.0     0.021242  \n",
       "2  0.0  0.0  0.0  0.0  0.0  0.0  0.0     0.025111  \n",
       "3  0.0  0.0  0.0  0.0  0.0  0.0  0.0     0.012773  \n",
       "4  0.0  0.0  0.0  0.0  0.0  0.0  0.0     0.021589  \n",
       "\n",
       "[5 rows x 150 columns]"
      ]
     },
     "execution_count": 189,
     "metadata": {},
     "output_type": "execute_result"
    }
   ],
   "source": [
    "# Combine genre vector to song_lenth and language\n",
    "song_metadata = pd.concat([genre_vec, \n",
    "                           pd.DataFrame(MinMaxScaler().fit_transform(songs[['song_length']]), \n",
    "                                        columns=['song_length'])], axis=1)\n",
    "\n",
    "song_metadata.head()"
   ]
  },
  {
   "cell_type": "markdown",
   "metadata": {},
   "source": [
    "Now that the song metadata matrix is ready, I will create a function which uses cosine similarity to give back the 20 top matching songs provided a song the user has liked. This is not an ideal recommendation engine, however it is a useful tool in order to recommend media to a new user where user preference history is not available."
   ]
  },
  {
   "cell_type": "code",
   "execution_count": 190,
   "metadata": {},
   "outputs": [],
   "source": [
    "# Function to return 20 top matching songs based on genre, song length and language\n",
    "def top_matching(song_index, filter_by_lang='yes'):\n",
    "    # Print text with song searched for\n",
    "    print('Searching for top twenty songs matching {} by {} at index {}...'.format(songs.loc[song_index, 'name'], \n",
    "                                                                    songs.loc[song_index, 'artist_name'], song_index))\n",
    "    similarities = []\n",
    "    print('-'*90)\n",
    "    \n",
    "    # Check if language should be used as a filter\n",
    "    if filter_by_lang=='yes':\n",
    "        songs_subset = songs[songs['language']==songs.loc[song_index, 'language']]\n",
    "    elif filter_by_lang=='no':\n",
    "        songs_subset = songs\n",
    "    else:\n",
    "        print(\"ERROR!!\")\n",
    "        print(\"Wrong input in 'filter_by_lang', only 'yes' or 'no' accepted\")\n",
    "        return\n",
    "    \n",
    "    # Loop through indexes and compute cosine similarity\n",
    "    for i in songs_subset.index:\n",
    "        if i!=song_index:\n",
    "            simil = 1 - cosine(song_metadata.loc[song_index], song_metadata.loc[i])\n",
    "            similarities.append((i, simil))\n",
    "    \n",
    "    similarities = sorted(similarities, key=lambda x: x[1], reverse=True)[:20]\n",
    "    \n",
    "    # Print top 20 matching songs found\n",
    "    for index, match in similarities:\n",
    "        print('Index {}: {} by {} (matching {:.5f}%)'.format(index, songs.loc[index, 'name'], \n",
    "                                                             songs.loc[index, 'artist_name'], match*100))"
   ]
  },
  {
   "cell_type": "markdown",
   "metadata": {},
   "source": [
    "Time to test our function. I am going to search for songs matching the following:\n",
    "- Metallica: The Unforgiven (rock music)\n",
    "- Eminem: Square Dance (hip-hop / rap)"
   ]
  },
  {
   "cell_type": "code",
   "execution_count": 191,
   "metadata": {},
   "outputs": [
    {
     "name": "stdout",
     "output_type": "stream",
     "text": [
      "Searching for top twenty songs matching The Unforgiven by Metallica at index 33077...\n",
      "------------------------------------------------------------------------------------------\n",
      "Index 73646: Nothing Else Matters by Metallica (matching 100.00000%)\n",
      "Index 21453: Light by Talvin Singh (matching 99.99999%)\n",
      "Index 69305: The Unforgiven II by Metallica (matching 99.99996%)\n",
      "Index 90501: Rocket Queen by Guns N' Roses (matching 99.99994%)\n",
      "Index 114328: Paradise City by Guns N' Roses (matching 99.99983%)\n",
      "Index 60211: I Still Love You by Kiss (matching 99.99979%)\n",
      "Index 10792: Paradise City by Guns N' Roses (matching 99.99979%)\n",
      "Index 30756: Layla by Eric Clapton (matching 99.99962%)\n",
      "Index 6185: Patience by Guns N' Roses (matching 99.99960%)\n",
      "Index 63045: Sweet Child O' Mine by Guns N' Roses (matching 99.99960%)\n",
      "Index 100682: Sweet Child O' Mine by Guns N' Roses (matching 99.99958%)\n",
      "Index 112121: Don't Know What You Got (Till It's Gone) by Cinderella (matching 99.99957%)\n",
      "Index 42893: (It's Hard) Letting You Go by Bon Jovi (matching 99.99948%)\n",
      "Index 118642: Sultans Of Swing by Mark Knopfler (matching 99.99939%)\n",
      "Index 4906: When Doves Cry by Prince (matching 99.99938%)\n",
      "Index 110669: Keep The Faith by Bon Jovi (matching 99.99931%)\n",
      "Index 127883: Dancing with Myself by Billy Idol (matching 99.99924%)\n",
      "Index 88812: You Could Be Mine by Guns N' Roses (matching 99.99922%)\n",
      "Index 119789: Keep The Faith by Bon Jovi (matching 99.99921%)\n",
      "Index 91458: Hotel California by Eagles (matching 99.99911%)\n"
     ]
    }
   ],
   "source": [
    "top_matching(33077) # Check for matching songs to Metallica"
   ]
  },
  {
   "cell_type": "code",
   "execution_count": 192,
   "metadata": {},
   "outputs": [
    {
     "name": "stdout",
     "output_type": "stream",
     "text": [
      "Searching for top twenty songs matching Square Dance by Eminem at index 23790...\n",
      "------------------------------------------------------------------------------------------\n",
      "Index 71600: I Know What You Want by Busta Rhymes (matching 100.00000%)\n",
      "Index 16085: Hope (feat. Ty Dolla $ign) by Wiz Khalifa (matching 100.00000%)\n",
      "Index 61629: Ruckus In B Minor by Wu-Tang Clan (matching 100.00000%)\n",
      "Index 67991: YNO by Rae Sremmurd (matching 100.00000%)\n",
      "Index 43731: My Humps by Interscope Presents: Club Bangers (matching 100.00000%)\n",
      "Index 40293: Pistol Pistol by D-12 (matching 100.00000%)\n",
      "Index 52660: Put On(Young Jeezy feat. Kanye West) by Hip Hop (matching 100.00000%)\n",
      "Index 73795: The Donald by A Tribe Called Quest (matching 100.00000%)\n",
      "Index 76371: So Bad by Eminem (matching 100.00000%)\n",
      "Index 106528: From Time by Drake (matching 100.00000%)\n",
      "Index 101911: Tuesday (feat. Drake) by I LOVE MAKONNEN (matching 100.00000%)\n",
      "Index 98950: Do You Really (Thang Thang) by Wu-Tang Clan (matching 100.00000%)\n",
      "Index 19708: Shook Ones| Pt. II by Mobb Deep (matching 100.00000%)\n",
      "Index 106642: Do You Mind by DJ Khaled (matching 100.00000%)\n",
      "Index 87412: Devil's Pie (Raw) by D'Angelo (matching 100.00000%)\n",
      "Index 27684: Black Crowns by Tyga (matching 100.00000%)\n",
      "Index 65184: Put On by Young Jeezy (matching 100.00000%)\n",
      "Index 121824: Lose Yourself by Eminem (matching 100.00000%)\n",
      "Index 635: Lose Yourself by Eminem (matching 100.00000%)\n",
      "Index 134146: My Life by The Game (matching 100.00000%)\n"
     ]
    }
   ],
   "source": [
    "top_matching(23790) # Check for matching songs to Eminem"
   ]
  },
  {
   "cell_type": "markdown",
   "metadata": {},
   "source": [
    "Many top songs are showing near 100% match. This is because the only notable feature being compared is the genre, and the dataset has very similar genres for many songs. If there was more granular data available, or some more metadata we would be getting better results; however for the purpose of this project we have built an item-based predictor.\n",
    "\n",
    "Let us move on and build a recommendation using predictive modelling."
   ]
  },
  {
   "cell_type": "markdown",
   "metadata": {},
   "source": [
    "## 4.0 Collaborative Recommendation <a name=\"collaborative\"></a>\n",
    "The theory behind collaborative filtering is that any two persons may have similar tastes in music due to some 'latent' features. The collaborative models uses the user's likes and preferences to find users with matching tastes, and the items liked by one user is recommended to a user with similar taste who has not tried that item.\n",
    "\n",
    "Collaborative recommendations in productions are multi-layered and quite complex, often tailored to the specific business and designed for hyper-personalization towards the user. In this project, I will create a relatively simple recommendation model using the Scikit-Surprise library which have built-in recommendation functions.\n",
    "\n",
    "The first step, as always, is to split our data into train and test sets for training and validation.\n",
    "\n",
    "Scikit-surprise uses special object types called Datasets, Trainsets and Testsets for it's models (Pandas dataframes do not work). Below I am converting my pandas dataframes into Datasets. The functions requires an input of the range of rating values. Since our problem only has a target of 0 and 1, I will use 0 and 1 as my rating scale."
   ]
  },
  {
   "cell_type": "code",
   "execution_count": 14,
   "metadata": {},
   "outputs": [],
   "source": [
    "# Scikit-Surprise Trainset\n",
    "dataset = Dataset.load_from_df(data[['msno', 'song_id', 'target']], Reader(rating_scale=(0,1)))\n",
    "trainset, testset = train_test_split(dataset, test_size=0.25, shuffle=True, random_state=36)"
   ]
  },
  {
   "cell_type": "markdown",
   "metadata": {},
   "source": [
    "Another limitation with Surprise is that it treats the ratings as a continuous variable (which in real life it usually is). The default method of Surprise to evaluate models is to calculate RMSE values.\n",
    "\n",
    "Our dataset in this project has a binary classification target, so RMSE will not work. I need to calculate the accuracy scores, precision / recall and ROC-AUC to check my model's accuracies. To work around this, I will convert the Surprise trainset and testset to a pandas dataframe and run the scikit-learn accuracy functions on the model predictions to evaluate performance."
   ]
  },
  {
   "cell_type": "code",
   "execution_count": 15,
   "metadata": {},
   "outputs": [],
   "source": [
    "# Define function to convert Surprise testset to Pandas dataframe\n",
    "def convert_to_df(testlist):\n",
    "    users = []\n",
    "    items = []\n",
    "    ratings = []\n",
    "    for user, item, rating in testlist:\n",
    "        users.append(user)\n",
    "        items.append(item)\n",
    "        ratings.append(rating)\n",
    "    \n",
    "    ratings = [0 if x==1.0 else 1 for x in ratings]\n",
    "    df = pd.DataFrame({'msno': users, 'song_id': items, 'target': ratings})\n",
    "    return df"
   ]
  },
  {
   "cell_type": "code",
   "execution_count": 16,
   "metadata": {},
   "outputs": [],
   "source": [
    "training_df = convert_to_df(trainset.build_testset())\n",
    "testing_df = convert_to_df(testset)"
   ]
  },
  {
   "cell_type": "code",
   "execution_count": 17,
   "metadata": {},
   "outputs": [
    {
     "data": {
      "text/plain": [
       "((829959, 3), (276653, 3))"
      ]
     },
     "execution_count": 17,
     "metadata": {},
     "output_type": "execute_result"
    }
   ],
   "source": [
    "training_df.shape, testing_df.shape"
   ]
  },
  {
   "cell_type": "markdown",
   "metadata": {},
   "source": [
    "Scikit-surprise does not have the functionality to give a 'predict all' on a test set similar to sklearn. The format of Scikit-Surprise is that it takes in a userId and itemId as an input, and the model will output a predicted rating for that item. Below, I will create a function to loop through all user and item Id's and give a list output of predictions."
   ]
  },
  {
   "cell_type": "code",
   "execution_count": 293,
   "metadata": {},
   "outputs": [],
   "source": [
    "# Define Function to give predictions as a list\n",
    "def predictions(model, df):\n",
    "    predictions = []\n",
    "    for row in df[['msno','song_id']].itertuples():\n",
    "        predictions.append(model.predict(uid=row.msno, iid=row.song_id).est)\n",
    "    return predictions"
   ]
  },
  {
   "cell_type": "markdown",
   "metadata": {},
   "source": [
    "### 4.1 Initial evaluation of predictive models <a name=\"initial\"></a>\n",
    "As in any project, I will run multiple models on the training data and test out on my testing data using the default algorithm settings. I am going to use the output evaluations to finalize which model to use for my data."
   ]
  },
  {
   "cell_type": "code",
   "execution_count": 19,
   "metadata": {},
   "outputs": [],
   "source": [
    "# Define function to train and evaluate models\n",
    "def train_models(estimator_list, estimator_names, trainset, training_df, testing_df):\n",
    "    if len(estimator_list)==len(estimator_names):\n",
    "        trained_models = []\n",
    "        times_taken = []\n",
    "        train_accuracy_values = []\n",
    "        test_accuracy_values = []\n",
    "        predictions_list = []\n",
    "        print('Received {} estimator(s)'.format(len(estimator_names)))\n",
    "        print('')\n",
    "        for i, estimator in enumerate(estimator_list):\n",
    "            print('Training', estimator_names[i], '...')\n",
    "            try:\n",
    "                # Train and test model\n",
    "                t_0 = time()\n",
    "                model = estimator\n",
    "                model.fit(trainset)                 \n",
    "                # Predictions and accuracies\n",
    "                train_preds = predictions(model, training_df)\n",
    "                test_preds = predictions(model, testing_df)\n",
    "                train_preds = [0 if i<0.5 else 1 for i in train_preds]\n",
    "                test_preds = [0 if i<0.5 else 1 for i in test_preds]\n",
    "                train_accuracy = accuracy_score(training_df['target'], train_preds)\n",
    "                test_accuracy = accuracy_score(testing_df['target'], test_preds)\n",
    "\n",
    "                # Append all results\n",
    "                trained_models.append(model)        \n",
    "                train_accuracy_values.append(train_accuracy)\n",
    "                test_accuracy_values.append(test_accuracy)\n",
    "                times_taken.append(time() - t_0)    \n",
    "                print('='*60)\n",
    "     \n",
    "            except:\n",
    "                print('Training failed...')\n",
    "                trained_models.append('na')\n",
    "                train_accuracy_values.append(0)\n",
    "                test_accuracy_values.append(0)\n",
    "                times_taken.append(0)\n",
    "                print('='*60)\n",
    "        \n",
    "        return trained_models, train_accuracy_values, test_accuracy_values, times_taken\n",
    "    \n",
    "    else:\n",
    "        print('Length of estimators and names not matching!')\n",
    "        return None"
   ]
  },
  {
   "cell_type": "markdown",
   "metadata": {},
   "source": [
    "Let us run the above function using multiple algorithms and compare the results."
   ]
  },
  {
   "cell_type": "code",
   "execution_count": 20,
   "metadata": {},
   "outputs": [
    {
     "name": "stdout",
     "output_type": "stream",
     "text": [
      "Received 6 estimator(s)\n",
      "\n",
      "Training BaselineOnly ...\n",
      "Estimating biases using als...\n",
      "============================================================\n",
      "Training KNNBasic ...\n",
      "Computing the msd similarity matrix...\n",
      "Done computing similarity matrix.\n",
      "============================================================\n",
      "Training SVD ...\n",
      "============================================================\n",
      "Training SVDpp ...\n",
      "============================================================\n",
      "Training NMF ...\n",
      "============================================================\n",
      "Training CoClustering ...\n",
      "============================================================\n"
     ]
    }
   ],
   "source": [
    "# Define estimator names and algorithms for evaluation\n",
    "estimators = [BaselineOnly(), KNNBasic(), SVD(), SVDpp(), NMF(), CoClustering()]\n",
    "estimator_names = ['BaselineOnly', 'KNNBasic','SVD', 'SVDpp', 'NMF', 'CoClustering']\n",
    "\n",
    "# Evaluate the models\n",
    "models, train_values, test_values, times = train_models(estimators, estimator_names, trainset, training_df, testing_df)"
   ]
  },
  {
   "cell_type": "code",
   "execution_count": 21,
   "metadata": {},
   "outputs": [
    {
     "data": {
      "text/html": [
       "<div>\n",
       "<style scoped>\n",
       "    .dataframe tbody tr th:only-of-type {\n",
       "        vertical-align: middle;\n",
       "    }\n",
       "\n",
       "    .dataframe tbody tr th {\n",
       "        vertical-align: top;\n",
       "    }\n",
       "\n",
       "    .dataframe thead th {\n",
       "        text-align: right;\n",
       "    }\n",
       "</style>\n",
       "<table border=\"1\" class=\"dataframe\">\n",
       "  <thead>\n",
       "    <tr style=\"text-align: right;\">\n",
       "      <th></th>\n",
       "      <th>model</th>\n",
       "      <th>train_accuracy</th>\n",
       "      <th>test_accuracy</th>\n",
       "      <th>time_to_train</th>\n",
       "      <th>train_test_difference</th>\n",
       "    </tr>\n",
       "  </thead>\n",
       "  <tbody>\n",
       "    <tr>\n",
       "      <th>0</th>\n",
       "      <td>BaselineOnly</td>\n",
       "      <td>0.707611</td>\n",
       "      <td>0.652453</td>\n",
       "      <td>23.519683</td>\n",
       "      <td>0.055158</td>\n",
       "    </tr>\n",
       "    <tr>\n",
       "      <th>1</th>\n",
       "      <td>KNNBasic</td>\n",
       "      <td>0.954310</td>\n",
       "      <td>0.555118</td>\n",
       "      <td>594.874708</td>\n",
       "      <td>0.399192</td>\n",
       "    </tr>\n",
       "    <tr>\n",
       "      <th>2</th>\n",
       "      <td>SVD</td>\n",
       "      <td>0.814661</td>\n",
       "      <td>0.639465</td>\n",
       "      <td>155.751931</td>\n",
       "      <td>0.175195</td>\n",
       "    </tr>\n",
       "    <tr>\n",
       "      <th>3</th>\n",
       "      <td>SVDpp</td>\n",
       "      <td>0.754999</td>\n",
       "      <td>0.646246</td>\n",
       "      <td>2605.974874</td>\n",
       "      <td>0.108752</td>\n",
       "    </tr>\n",
       "    <tr>\n",
       "      <th>4</th>\n",
       "      <td>NMF</td>\n",
       "      <td>0.849912</td>\n",
       "      <td>0.616997</td>\n",
       "      <td>184.806916</td>\n",
       "      <td>0.232915</td>\n",
       "    </tr>\n",
       "    <tr>\n",
       "      <th>5</th>\n",
       "      <td>CoClustering</td>\n",
       "      <td>0.754284</td>\n",
       "      <td>0.615800</td>\n",
       "      <td>106.373446</td>\n",
       "      <td>0.138484</td>\n",
       "    </tr>\n",
       "  </tbody>\n",
       "</table>\n",
       "</div>"
      ],
      "text/plain": [
       "          model  train_accuracy  test_accuracy  time_to_train  \\\n",
       "0  BaselineOnly        0.707611       0.652453      23.519683   \n",
       "1      KNNBasic        0.954310       0.555118     594.874708   \n",
       "2           SVD        0.814661       0.639465     155.751931   \n",
       "3         SVDpp        0.754999       0.646246    2605.974874   \n",
       "4           NMF        0.849912       0.616997     184.806916   \n",
       "5  CoClustering        0.754284       0.615800     106.373446   \n",
       "\n",
       "   train_test_difference  \n",
       "0               0.055158  \n",
       "1               0.399192  \n",
       "2               0.175195  \n",
       "3               0.108752  \n",
       "4               0.232915  \n",
       "5               0.138484  "
      ]
     },
     "execution_count": 21,
     "metadata": {},
     "output_type": "execute_result"
    }
   ],
   "source": [
    "model_performance = pd.DataFrame({'model': estimator_names, 'train_accuracy': train_values,\n",
    "                                  'test_accuracy': test_values, 'time_to_train': times})\n",
    "model_performance['train_test_difference'] = model_performance['train_accuracy'] - model_performance['test_accuracy']\n",
    "model_performance"
   ]
  },
  {
   "cell_type": "markdown",
   "metadata": {},
   "source": [
    "Based on the above performance values, I will go with SVD to see if I can improve on it."
   ]
  },
  {
   "cell_type": "markdown",
   "metadata": {},
   "source": [
    "### 4.2 Hyper-parameter tuning <a name=\"hyperparameter\"></a>\n",
    "I will try to loop through different hyper-parameter values for the above top performing models to find the best set of parameters for our final model."
   ]
  },
  {
   "cell_type": "code",
   "execution_count": 22,
   "metadata": {},
   "outputs": [],
   "source": [
    "# Define function to evaluate model performance \n",
    "def test_model_performance(algo, df, metric='accuracy', thresh=0.5):\n",
    "    preds = predictions(algo, df)\n",
    "    if metric=='accuracy':\n",
    "        # Calculating accuracy    \n",
    "        pred_labels = [0 if i<thresh else 1 for i in preds]\n",
    "        result = accuracy_score(df['target'], pred_labels)\n",
    "        return result\n",
    "    elif metric=='auc':\n",
    "        fpr, tpr, _ = roc_curve(df['target'], preds)\n",
    "        result = auc(fpr, tpr)\n",
    "        return (fpr, tpr, result)\n",
    "    else:\n",
    "        print('Error')"
   ]
  },
  {
   "cell_type": "markdown",
   "metadata": {},
   "source": [
    "#### Tuning the SVD Model:"
   ]
  },
  {
   "cell_type": "code",
   "execution_count": 23,
   "metadata": {},
   "outputs": [],
   "source": [
    "# Setting range of hyper-parameters\n",
    "learning_rates = [0.005, 0.01, 0.015]\n",
    "regularizations = [0.02, 0.03, 0.04]\n",
    "latent_factors = [70, 90, 110]\n",
    "lr_list = []\n",
    "reg_list = []\n",
    "n_list = []\n",
    "svd_training_accuracies = []\n",
    "svd_testing_accuracies = []\n",
    "\n",
    "# Loop through individual set of hyperparameters, train, test and evaluate\n",
    "for lr, reg, n in product(learning_rates, regularizations, latent_factors):\n",
    "    lr_list.append(lr)\n",
    "    reg_list.append(reg)\n",
    "    n_list.append(n)\n",
    "    algo = SVD(n_factors=n, reg_all=reg, lr_all=lr, random_state=9, biased=False).fit(trainset)\n",
    "    svd_training_accuracies.append(test_model_performance(algo, training_df)*100)\n",
    "    svd_testing_accuracies.append(test_model_performance(algo, testing_df)*100)"
   ]
  },
  {
   "cell_type": "code",
   "execution_count": 24,
   "metadata": {},
   "outputs": [],
   "source": [
    "# Build performance DataFrame\n",
    "svd_performance = pd.DataFrame({'learning_rate': lr_list,\n",
    "                                'regularization':reg_list,\n",
    "                                'latent_factors':n_list,\n",
    "                                'train_accuracy': svd_training_accuracies,\n",
    "                                'test_accuracy': svd_testing_accuracies})\n",
    "svd_performance['difference'] = svd_performance['train_accuracy'] - svd_performance['test_accuracy']"
   ]
  },
  {
   "cell_type": "code",
   "execution_count": 25,
   "metadata": {},
   "outputs": [
    {
     "data": {
      "text/html": [
       "<div>\n",
       "<style scoped>\n",
       "    .dataframe tbody tr th:only-of-type {\n",
       "        vertical-align: middle;\n",
       "    }\n",
       "\n",
       "    .dataframe tbody tr th {\n",
       "        vertical-align: top;\n",
       "    }\n",
       "\n",
       "    .dataframe thead th {\n",
       "        text-align: right;\n",
       "    }\n",
       "</style>\n",
       "<table border=\"1\" class=\"dataframe\">\n",
       "  <thead>\n",
       "    <tr style=\"text-align: right;\">\n",
       "      <th></th>\n",
       "      <th>learning_rate</th>\n",
       "      <th>regularization</th>\n",
       "      <th>latent_factors</th>\n",
       "      <th>train_accuracy</th>\n",
       "      <th>test_accuracy</th>\n",
       "      <th>difference</th>\n",
       "    </tr>\n",
       "  </thead>\n",
       "  <tbody>\n",
       "    <tr>\n",
       "      <th>24</th>\n",
       "      <td>0.015</td>\n",
       "      <td>0.04</td>\n",
       "      <td>70</td>\n",
       "      <td>86.289082</td>\n",
       "      <td>60.749025</td>\n",
       "      <td>25.540057</td>\n",
       "    </tr>\n",
       "    <tr>\n",
       "      <th>15</th>\n",
       "      <td>0.010</td>\n",
       "      <td>0.04</td>\n",
       "      <td>70</td>\n",
       "      <td>78.812929</td>\n",
       "      <td>60.464553</td>\n",
       "      <td>18.348376</td>\n",
       "    </tr>\n",
       "    <tr>\n",
       "      <th>25</th>\n",
       "      <td>0.015</td>\n",
       "      <td>0.04</td>\n",
       "      <td>90</td>\n",
       "      <td>88.847521</td>\n",
       "      <td>60.352499</td>\n",
       "      <td>28.495022</td>\n",
       "    </tr>\n",
       "    <tr>\n",
       "      <th>21</th>\n",
       "      <td>0.015</td>\n",
       "      <td>0.03</td>\n",
       "      <td>70</td>\n",
       "      <td>89.290314</td>\n",
       "      <td>60.304786</td>\n",
       "      <td>28.985528</td>\n",
       "    </tr>\n",
       "    <tr>\n",
       "      <th>12</th>\n",
       "      <td>0.010</td>\n",
       "      <td>0.03</td>\n",
       "      <td>70</td>\n",
       "      <td>80.879296</td>\n",
       "      <td>60.118632</td>\n",
       "      <td>20.760664</td>\n",
       "    </tr>\n",
       "  </tbody>\n",
       "</table>\n",
       "</div>"
      ],
      "text/plain": [
       "    learning_rate  regularization  latent_factors  train_accuracy  \\\n",
       "24          0.015            0.04              70       86.289082   \n",
       "15          0.010            0.04              70       78.812929   \n",
       "25          0.015            0.04              90       88.847521   \n",
       "21          0.015            0.03              70       89.290314   \n",
       "12          0.010            0.03              70       80.879296   \n",
       "\n",
       "    test_accuracy  difference  \n",
       "24      60.749025   25.540057  \n",
       "15      60.464553   18.348376  \n",
       "25      60.352499   28.495022  \n",
       "21      60.304786   28.985528  \n",
       "12      60.118632   20.760664  "
      ]
     },
     "execution_count": 25,
     "metadata": {},
     "output_type": "execute_result"
    }
   ],
   "source": [
    "svd_performance.sort_values('test_accuracy', ascending=False).head(5)"
   ]
  },
  {
   "cell_type": "markdown",
   "metadata": {},
   "source": [
    "The above dataframe provide accuracy scores over train and test for difference combinations of hyper-parameters. Below I will plot the different performance charts and check what effect each hyper-parameter has on the model."
   ]
  },
  {
   "cell_type": "code",
   "execution_count": 221,
   "metadata": {},
   "outputs": [
    {
     "data": {
      "image/png": "[encoded data removed]",
      "text/plain": [
       "<Figure size 1080x360 with 3 Axes>"
      ]
     },
     "metadata": {},
     "output_type": "display_data"
    }
   ],
   "source": [
    "# Plot performance graphs\n",
    "fig, ax = plt.subplots(1,3, figsize=(15,5), sharey=True)\n",
    "sns.lineplot(x='learning_rate', y='test_accuracy', hue='regularization', legend='full',\n",
    "             data=svd_performance[svd_performance['latent_factors']==70], ax=ax[0], palette='winter', linewidth=2)\n",
    "sns.lineplot(x='learning_rate', y='test_accuracy', hue='regularization', legend='full',\n",
    "             data=svd_performance[svd_performance['latent_factors']==90], ax=ax[1], palette='winter', linewidth=2)\n",
    "sns.lineplot(x='learning_rate', y='test_accuracy', hue='regularization', legend='full',\n",
    "             data=svd_performance[svd_performance['latent_factors']==110], ax=ax[2], palette='winter', linewidth=2)\n",
    "ax[0].set_ylim(56, 62)\n",
    "\n",
    "ax[0].text(0.0078,56.2, 'Latent Factors = 70', fontsize=13)\n",
    "ax[1].text(0.0078,56.2, 'Latent Factors = 90', fontsize=13)\n",
    "ax[2].text(0.0078,56.2, 'Latent Factors = 110', fontsize=13)\n",
    "\n",
    "ax[0].set_ylabel('Test Accuracy', fontsize=13)\n",
    "ax[0].set_xlabel('Learning Rate', fontsize=13)\n",
    "ax[1].set_xlabel('Learning Rate', fontsize=13)\n",
    "ax[2].set_xlabel('Learning Rate', fontsize=13)\n",
    "\n",
    "plt.suptitle('PERFORMANCE ON TEST DATASET FOR DIFFERENT HYPERPARAMETERS', fontsize=16)\n",
    "plt.subplots_adjust(hspace=0.05, wspace=0.03)\n",
    "plt.show()"
   ]
  },
  {
   "cell_type": "markdown",
   "metadata": {},
   "source": [
    "The above graphs exhibit the following:\n",
    "- Increasing the number of latent factors decreases test accuracies (as it tends to  overfit the model to training).\n",
    "- Increases regularization increases test accuracy.\n",
    "- Accuracy peaks at Learning Rate of 0.01 at 70 latent factors.\n",
    "\n",
    "Below I will train my final model and plot the AUC-ROC curve."
   ]
  },
  {
   "cell_type": "code",
   "execution_count": 27,
   "metadata": {},
   "outputs": [],
   "source": [
    "svd = SVD(n_factors=70, lr_all=0.008, reg_all=0.1).fit(trainset)"
   ]
  },
  {
   "cell_type": "code",
   "execution_count": 28,
   "metadata": {},
   "outputs": [],
   "source": [
    "training_fpr, training_tpr, training_auc = test_model_performance(svd, training_df, metric='auc', thresh=0.5)\n",
    "testing_fpr, testing_tpr, testing_auc = test_model_performance(svd, testing_df, metric='auc', thresh=0.5)"
   ]
  },
  {
   "cell_type": "code",
   "execution_count": 222,
   "metadata": {},
   "outputs": [
    {
     "data": {
      "image/png": "[encoded data removed]",
      "text/plain": [
       "<Figure size 576x432 with 1 Axes>"
      ]
     },
     "metadata": {},
     "output_type": "display_data"
    }
   ],
   "source": [
    "fig = plt.figure(figsize=(8,6))\n",
    "plt.plot(training_fpr, training_tpr, label='Training (AUC: {:.2f})'.format(training_auc))\n",
    "plt.plot(testing_fpr, testing_tpr, label='Testing (AUC: {:.2f})'.format(testing_auc))\n",
    "plt.plot([0,1], [0,1], linestyle='--')\n",
    "plt.legend(fontsize=13)\n",
    "plt.title('Receiver Operating Characteristic AUC', fontsize=16)\n",
    "plt.xlabel('False Positive Rate', fontsize=13)\n",
    "plt.ylabel('True Positive Rate', fontsize=13)\n",
    "plt.show()"
   ]
  },
  {
   "cell_type": "code",
   "execution_count": null,
   "metadata": {},
   "outputs": [],
   "source": [
    "# Function to normalize confusion matrix\n",
    "def normalizer(df):\n",
    "    df[2] = df[0] + df[1]\n",
    "    df[0] = df[0] / df[2]\n",
    "    df[1] = df[1] / df[2]\n",
    "    return df.drop(2, axis=1)"
   ]
  },
  {
   "cell_type": "code",
   "execution_count": 30,
   "metadata": {},
   "outputs": [],
   "source": [
    "# Confusion matrices for test set at different thresholds\n",
    "pred_prob = predictions(svd, testing_df)"
   ]
  },
  {
   "cell_type": "code",
   "execution_count": 31,
   "metadata": {},
   "outputs": [],
   "source": [
    "# Create data for threshold plot\n",
    "thresh_list = [0.5, 0.45, 0.4, 0.35, 0.3, 0.25, 0.2, 0.15, 0.1]\n",
    "true_postivies = []\n",
    "false_positives = []\n",
    "true_negatives = []\n",
    "false_negatives = []\n",
    "counts = [i for i in range(1, 10)]\n",
    "\n",
    "for thresh in thresh_list:\n",
    "    preds = [0 if x<thresh else 1 for x in pred_prob]\n",
    "    tn, fp, fn, tp = confusion_matrix(testing_df['target'], preds).ravel()\n",
    "    true_postivies.append(tp)\n",
    "    false_positives.append(fp)\n",
    "    true_negatives.append(tn)\n",
    "    false_negatives.append(fn)\n",
    "    \n",
    "# Create data for Confusion Matrix\n",
    "    # Theshold 0.5\n",
    "labels_at_50 = [0 if x<0.5 else 1 for x in pred_prob]\n",
    "confusion_50 = normalizer(pd.DataFrame(confusion_matrix(testing_df['target'], labels_at_50)))\n",
    "    # Theshold 0.43\n",
    "labels_at_43 = [0 if x<0.43 else 1 for x in pred_prob]\n",
    "confusion_43 = normalizer(pd.DataFrame(confusion_matrix(testing_df['target'], labels_at_43)))\n",
    "    # Theshold 0.3\n",
    "labels_at_30 = [0 if x<0.3 else 1 for x in pred_prob]\n",
    "confusion_30 = normalizer(pd.DataFrame(confusion_matrix(testing_df['target'], labels_at_30)))"
   ]
  },
  {
   "cell_type": "code",
   "execution_count": 32,
   "metadata": {},
   "outputs": [
    {
     "data": {
      "image/png": "[encoded data removed]",
      "text/plain": [
       "<Figure size 1080x576 with 4 Axes>"
      ]
     },
     "metadata": {
      "needs_background": "light"
     },
     "output_type": "display_data"
    }
   ],
   "source": [
    "fig = plt.figure(1, figsize=(15,8))\n",
    "gridspec.GridSpec(3,4)\n",
    "\n",
    "# Large subplot\n",
    "plt.subplot2grid((3,4), (0,0), colspan=3, rowspan=3)\n",
    "plt.plot(counts, true_postivies, label='True Positives', color='C0', marker='P', \n",
    "         linewidth=0.8, markersize=12)\n",
    "plt.plot(counts, false_positives, label='False Positives', color='C0', marker='P', \n",
    "         ls=':', linewidth=1, markersize=9)\n",
    "plt.plot(counts, true_negatives, label='True Negatives', color='C1', marker='o', \n",
    "         linewidth=0.8, markersize=6, markerfacecolor='y')\n",
    "plt.plot(counts, false_negatives, label='False Negatives', color='C1', marker='o', \n",
    "         ls=':', linewidth=1, markersize=4, markerfacecolor='y')\n",
    "plt.xticks(counts, thresh_list, fontsize=12)\n",
    "plt.yticks(fontsize=12)\n",
    "plt.axvline(x=5, color='g', linestyle='--', linewidth=0.6, label='Threshold = 0.30')\n",
    "plt.axvline(x=2.4, color='r', linestyle='--', linewidth=0.6, label='Threshold = 0.43')\n",
    "plt.axvline(x=1, color='b', linestyle='--', linewidth=0.6, label='Threshold = 0.50')\n",
    "plt.xlabel('Threshold', fontsize=13)\n",
    "plt.ylabel('Value Counts', fontsize=13)\n",
    "plt.legend(fontsize=12)\n",
    "plt.title('TP / TN / FP / FN At Different Thresholds', fontsize=16)\n",
    "\n",
    "# Small subplot 1\n",
    "plt.subplot2grid((3,4), (0,3))\n",
    "sns.heatmap(confusion_50, annot=True, cbar=False, fmt='.1%', cmap='YlOrRd', annot_kws={'size':14})\n",
    "plt.xticks([0.5,1.5], ['False', 'True'], fontsize=13)\n",
    "plt.yticks([0.5,1.5], ['False', 'True'], fontsize=13, rotation=0)\n",
    "plt.title('Conf. Matrix @ Threshold=0.50', fontsize=14)\n",
    "    \n",
    "# Small subplot 2\n",
    "plt.subplot2grid((3,4), (1,3))\n",
    "sns.heatmap(confusion_43, annot=True, cbar=False, fmt='.1%', cmap='YlOrRd', annot_kws={'size':14})\n",
    "plt.xticks([0.5,1.5], ['False', 'True'], fontsize=13)\n",
    "plt.yticks([0.5,1.5], ['False', 'True'], fontsize=13, rotation=0)\n",
    "plt.title('Conf. Matrix @ Threshold=0.43', fontsize=14)\n",
    "\n",
    "# Small subplot 3\n",
    "plt.subplot2grid((3,4), (2,3))\n",
    "sns.heatmap(confusion_30, annot=True, cbar=False, fmt='.1%', cmap='YlOrRd', annot_kws={'size':14})\n",
    "plt.xticks([0.5,1.5], ['False', 'True'], fontsize=13)\n",
    "plt.yticks([0.5,1.5], ['False', 'True'], fontsize=13, rotation=0)\n",
    "plt.title('Conf. Matrix @ Threshold=0.30', fontsize=14)\n",
    "\n",
    "plt.subplots_adjust(hspace=0.5, wspace=0.3)\n",
    "plt.show()"
   ]
  },
  {
   "cell_type": "markdown",
   "metadata": {},
   "source": [
    "The threshold of 0.5 for prediction probability gives us a relatively good balance of true negatives and true positives with their false counterparts; however, for a recommendation I would prefer to have a higher true positive count (so as to have more predicted recommended items) at the expense of reducing my true negatives, which to me are not very critical for this case. \n",
    "\n",
    "I can do this by reducing my theshold to increase percentage of true positives. However, too low a threshold can result in all songs being predicted as recommended, which would practically mean not having predicted anything in the first place. A good place would be around 0.43 which gives a high count of true positives, and an approximate 50-50 balance of true and false negatives."
   ]
  },
  {
   "cell_type": "markdown",
   "metadata": {},
   "source": [
    "## 5.0 Making Recommendations <a name=\"recommendations\"></a>\n",
    "Now that the model is ready, I can define some functions which will give users some recommendations. I will tackle this in two separate parts:\n",
    "- Recommendations for existing users\n",
    "- Recommendations for new users\n",
    "\n",
    "### 5.1 Recommendations for existing users <a name=\"existing\"></a>\n",
    "The trained model can be used to give predicted probability of a certain user liking a certain song. We can check the recommended songs by two methods:\n",
    "1. Looping through the songs database to get the predicted probabilities of songs the user hasn't heard, and output the top few songs with highest probabilities.\n",
    "2. Use the metadata of the songs liked by the user, and output the songs best matching those attributes.\n",
    "\n",
    "Actual music recommendation engines use a combination of the two (not to mention more complicated algorithms including neural networks). I have already demonstrated the second method in a previous section; below I will define a function which will recommend 20 songs to an existing user. "
   ]
  },
  {
   "cell_type": "code",
   "execution_count": 292,
   "metadata": {},
   "outputs": [],
   "source": [
    "def recommend_to_existing_user(user_id):\n",
    "    if user_id>=1 or user_id<=28037:\n",
    "        # List of songs not heard by user\n",
    "        songs_not_heard = data[data['msno']!=user_id]['song_id'].unique()\n",
    "        predictions_dict = {'song_id': [], 'song_name':[], 'artist': [], 'language': [], 'like_probability(%)': []} #\n",
    "        df_testset = [(user_id, song_id, 1.5) for song_id in songs_not_heard]\n",
    "        test_result = svd.test(df_testset)\n",
    "        result_sorted = sorted(test_result, key=lambda x: x[3], reverse=True)\n",
    "        \n",
    "        for result in result_sorted[:20]:    \n",
    "            predictions_dict['song_id'].append(result[1])\n",
    "            predictions_dict['song_name'].append(songs.loc[songs['song_id']==result[1]]['name'].values[0])\n",
    "            predictions_dict['artist'].append(songs.loc[songs['song_id']==result[1]]['artist_name'].values[0])\n",
    "            predictions_dict['language'].append(songs.loc[songs['song_id']==result[1]]['language'].values[0])\n",
    "            predictions_dict['like_probability(%)'].append(round(result[3]*100,2))\n",
    "        \n",
    "        # Sort and filter first 20\n",
    "        return pd.DataFrame(predictions_dict).sort_values('like_probability(%)', ascending=False)"
   ]
  },
  {
   "cell_type": "markdown",
   "metadata": {},
   "source": [
    "Let's try to check the functionality of our collaborative recommendation engine. Below I will print out the 20 liked songs by a user:"
   ]
  },
  {
   "cell_type": "code",
   "execution_count": 275,
   "metadata": {},
   "outputs": [
    {
     "data": {
      "text/html": [
       "<div>\n",
       "<style scoped>\n",
       "    .dataframe tbody tr th:only-of-type {\n",
       "        vertical-align: middle;\n",
       "    }\n",
       "\n",
       "    .dataframe tbody tr th {\n",
       "        vertical-align: top;\n",
       "    }\n",
       "\n",
       "    .dataframe thead th {\n",
       "        text-align: right;\n",
       "    }\n",
       "</style>\n",
       "<table border=\"1\" class=\"dataframe\">\n",
       "  <thead>\n",
       "    <tr style=\"text-align: right;\">\n",
       "      <th></th>\n",
       "      <th>song_id</th>\n",
       "      <th>name</th>\n",
       "      <th>artist_name</th>\n",
       "      <th>language</th>\n",
       "    </tr>\n",
       "  </thead>\n",
       "  <tbody>\n",
       "    <tr>\n",
       "      <th>588</th>\n",
       "      <td>130541</td>\n",
       "      <td>We’ll never know</td>\n",
       "      <td>韋禮安 (William Wei)</td>\n",
       "      <td>Chinese</td>\n",
       "    </tr>\n",
       "    <tr>\n",
       "      <th>1438</th>\n",
       "      <td>12535</td>\n",
       "      <td>風箏</td>\n",
       "      <td>2012高中原創畢業歌合輯</td>\n",
       "      <td>Chinese</td>\n",
       "    </tr>\n",
       "    <tr>\n",
       "      <th>2257</th>\n",
       "      <td>62982</td>\n",
       "      <td>被遺忘的時光 (Forgotten time)</td>\n",
       "      <td>蕭敬騰 (Jam Hsiao)</td>\n",
       "      <td>Chinese</td>\n",
       "    </tr>\n",
       "    <tr>\n",
       "      <th>2527</th>\n",
       "      <td>96537</td>\n",
       "      <td>Heathens (Workout Mix) [128 BPM]</td>\n",
       "      <td>Workout Remix Factory</td>\n",
       "      <td>English</td>\n",
       "    </tr>\n",
       "    <tr>\n",
       "      <th>5131</th>\n",
       "      <td>125449</td>\n",
       "      <td>Levels</td>\n",
       "      <td>Nick Jonas</td>\n",
       "      <td>English</td>\n",
       "    </tr>\n",
       "    <tr>\n",
       "      <th>5940</th>\n",
       "      <td>46342</td>\n",
       "      <td>I NEED U</td>\n",
       "      <td>BANGTAN BOYS</td>\n",
       "      <td>Korean</td>\n",
       "    </tr>\n",
       "    <tr>\n",
       "      <th>9655</th>\n",
       "      <td>118864</td>\n",
       "      <td>The Whisperer (feat. Sia)</td>\n",
       "      <td>David Guetta</td>\n",
       "      <td>English</td>\n",
       "    </tr>\n",
       "    <tr>\n",
       "      <th>10365</th>\n",
       "      <td>75414</td>\n",
       "      <td>Lost Away</td>\n",
       "      <td>Sigma</td>\n",
       "      <td>English</td>\n",
       "    </tr>\n",
       "    <tr>\n",
       "      <th>14216</th>\n",
       "      <td>56299</td>\n",
       "      <td>Roses</td>\n",
       "      <td>The Chainsmokers feat. ROZES</td>\n",
       "      <td>English</td>\n",
       "    </tr>\n",
       "    <tr>\n",
       "      <th>15895</th>\n",
       "      <td>73362</td>\n",
       "      <td>Innocence</td>\n",
       "      <td>Flume</td>\n",
       "      <td>English</td>\n",
       "    </tr>\n",
       "    <tr>\n",
       "      <th>16189</th>\n",
       "      <td>25097</td>\n",
       "      <td>可不可以不勇敢</td>\n",
       "      <td>范瑋琪 (Christine Fan)</td>\n",
       "      <td>Chinese</td>\n",
       "    </tr>\n",
       "    <tr>\n",
       "      <th>16440</th>\n",
       "      <td>18990</td>\n",
       "      <td>OH.MY.GOSH</td>\n",
       "      <td>Various Artists</td>\n",
       "      <td>English</td>\n",
       "    </tr>\n",
       "    <tr>\n",
       "      <th>19412</th>\n",
       "      <td>34709</td>\n",
       "      <td>I Don't Like It| I Love It (feat. Robin Thicke...</td>\n",
       "      <td>Flo Rida</td>\n",
       "      <td>English</td>\n",
       "    </tr>\n",
       "    <tr>\n",
       "      <th>21145</th>\n",
       "      <td>47174</td>\n",
       "      <td>Love is not over</td>\n",
       "      <td>BANGTAN BOYS</td>\n",
       "      <td>Korean</td>\n",
       "    </tr>\n",
       "    <tr>\n",
       "      <th>22121</th>\n",
       "      <td>95745</td>\n",
       "      <td>I Love You Bon Bon</td>\n",
       "      <td>家家 (JiaJia)</td>\n",
       "      <td>Chinese</td>\n",
       "    </tr>\n",
       "    <tr>\n",
       "      <th>22733</th>\n",
       "      <td>51351</td>\n",
       "      <td>Runnin' (Lose It All)</td>\n",
       "      <td>Naughty Boy</td>\n",
       "      <td>English</td>\n",
       "    </tr>\n",
       "    <tr>\n",
       "      <th>23332</th>\n",
       "      <td>30304</td>\n",
       "      <td>Ocho Cinco</td>\n",
       "      <td>DJ Snake</td>\n",
       "      <td>English</td>\n",
       "    </tr>\n",
       "    <tr>\n",
       "      <th>25914</th>\n",
       "      <td>11782</td>\n",
       "      <td>愛人的自我修養 (Lover Prepares)</td>\n",
       "      <td>家家 (JiaJia)</td>\n",
       "      <td>Chinese</td>\n",
       "    </tr>\n",
       "    <tr>\n",
       "      <th>26959</th>\n",
       "      <td>54654</td>\n",
       "      <td>Snow Cats</td>\n",
       "      <td>AFI</td>\n",
       "      <td>English</td>\n",
       "    </tr>\n",
       "    <tr>\n",
       "      <th>28843</th>\n",
       "      <td>22811</td>\n",
       "      <td>Fashion</td>\n",
       "      <td>Taeyeon</td>\n",
       "      <td>Korean</td>\n",
       "    </tr>\n",
       "  </tbody>\n",
       "</table>\n",
       "</div>"
      ],
      "text/plain": [
       "       song_id                                               name  \\\n",
       "588     130541                                   We’ll never know   \n",
       "1438     12535                                                 風箏   \n",
       "2257     62982                            被遺忘的時光 (Forgotten time)   \n",
       "2527     96537                   Heathens (Workout Mix) [128 BPM]   \n",
       "5131    125449                                             Levels   \n",
       "5940     46342                                           I NEED U   \n",
       "9655    118864                          The Whisperer (feat. Sia)   \n",
       "10365    75414                                          Lost Away   \n",
       "14216    56299                                              Roses   \n",
       "15895    73362                                          Innocence   \n",
       "16189    25097                                            可不可以不勇敢   \n",
       "16440    18990                                         OH.MY.GOSH   \n",
       "19412    34709  I Don't Like It| I Love It (feat. Robin Thicke...   \n",
       "21145    47174                                   Love is not over   \n",
       "22121    95745                                 I Love You Bon Bon   \n",
       "22733    51351                              Runnin' (Lose It All)   \n",
       "23332    30304                                         Ocho Cinco   \n",
       "25914    11782                           愛人的自我修養 (Lover Prepares)   \n",
       "26959    54654                                          Snow Cats   \n",
       "28843    22811                                            Fashion   \n",
       "\n",
       "                        artist_name language  \n",
       "588               韋禮安 (William Wei)  Chinese  \n",
       "1438                  2012高中原創畢業歌合輯  Chinese  \n",
       "2257                蕭敬騰 (Jam Hsiao)  Chinese  \n",
       "2527          Workout Remix Factory  English  \n",
       "5131                     Nick Jonas  English  \n",
       "5940                   BANGTAN BOYS   Korean  \n",
       "9655                   David Guetta  English  \n",
       "10365                         Sigma  English  \n",
       "14216  The Chainsmokers feat. ROZES  English  \n",
       "15895                         Flume  English  \n",
       "16189           范瑋琪 (Christine Fan)  Chinese  \n",
       "16440               Various Artists  English  \n",
       "19412                      Flo Rida  English  \n",
       "21145                  BANGTAN BOYS   Korean  \n",
       "22121                   家家 (JiaJia)  Chinese  \n",
       "22733                   Naughty Boy  English  \n",
       "23332                      DJ Snake  English  \n",
       "25914                   家家 (JiaJia)  Chinese  \n",
       "26959                           AFI  English  \n",
       "28843                       Taeyeon   Korean  "
      ]
     },
     "execution_count": 275,
     "metadata": {},
     "output_type": "execute_result"
    }
   ],
   "source": [
    "train_language = pd.merge(data, songs, on='song_id', how='left')\n",
    "train_language[train_language['msno']==577][['song_id','name','artist_name','language']].head(20)"
   ]
  },
  {
   "cell_type": "markdown",
   "metadata": {},
   "source": [
    "Below are the 20 recommendations for the same user:"
   ]
  },
  {
   "cell_type": "code",
   "execution_count": 272,
   "metadata": {},
   "outputs": [
    {
     "data": {
      "text/html": [
       "<div>\n",
       "<style scoped>\n",
       "    .dataframe tbody tr th:only-of-type {\n",
       "        vertical-align: middle;\n",
       "    }\n",
       "\n",
       "    .dataframe tbody tr th {\n",
       "        vertical-align: top;\n",
       "    }\n",
       "\n",
       "    .dataframe thead th {\n",
       "        text-align: right;\n",
       "    }\n",
       "</style>\n",
       "<table border=\"1\" class=\"dataframe\">\n",
       "  <thead>\n",
       "    <tr style=\"text-align: right;\">\n",
       "      <th></th>\n",
       "      <th>song_id</th>\n",
       "      <th>song_name</th>\n",
       "      <th>artist</th>\n",
       "      <th>language</th>\n",
       "      <th>like_probability(%)</th>\n",
       "    </tr>\n",
       "  </thead>\n",
       "  <tbody>\n",
       "    <tr>\n",
       "      <th>0</th>\n",
       "      <td>27305</td>\n",
       "      <td>相安無事</td>\n",
       "      <td>周柏豪 (Pakho Chau)</td>\n",
       "      <td>Chinese-3</td>\n",
       "      <td>100.00</td>\n",
       "    </tr>\n",
       "    <tr>\n",
       "      <th>1</th>\n",
       "      <td>10052</td>\n",
       "      <td>天灰</td>\n",
       "      <td>S.H.E</td>\n",
       "      <td>Chinese</td>\n",
       "      <td>98.54</td>\n",
       "    </tr>\n",
       "    <tr>\n",
       "      <th>2</th>\n",
       "      <td>6328</td>\n",
       "      <td>CANDY CANDY</td>\n",
       "      <td>Kyary Pamyu Pamyu (きゃりーぱみゅぱみゅ)</td>\n",
       "      <td>Japanese</td>\n",
       "      <td>98.37</td>\n",
       "    </tr>\n",
       "    <tr>\n",
       "      <th>3</th>\n",
       "      <td>3065</td>\n",
       "      <td>Once I Had A Laugh</td>\n",
       "      <td>Norah Jones</td>\n",
       "      <td>English</td>\n",
       "      <td>96.47</td>\n",
       "    </tr>\n",
       "    <tr>\n",
       "      <th>4</th>\n",
       "      <td>37213</td>\n",
       "      <td>Sonnakimikonnaboku</td>\n",
       "      <td>Thinking Dogs</td>\n",
       "      <td>Japanese</td>\n",
       "      <td>95.65</td>\n",
       "    </tr>\n",
       "    <tr>\n",
       "      <th>5</th>\n",
       "      <td>24783</td>\n",
       "      <td>Season Song</td>\n",
       "      <td>証聲音樂圖書館 ECHO MUSIC</td>\n",
       "      <td>Korean</td>\n",
       "      <td>94.67</td>\n",
       "    </tr>\n",
       "    <tr>\n",
       "      <th>6</th>\n",
       "      <td>7886</td>\n",
       "      <td>Missing</td>\n",
       "      <td>Ayumi Hamasaki (浜崎あゆみ)</td>\n",
       "      <td>Japanese</td>\n",
       "      <td>93.79</td>\n",
       "    </tr>\n",
       "    <tr>\n",
       "      <th>7</th>\n",
       "      <td>3529</td>\n",
       "      <td>Pure Happiness</td>\n",
       "      <td>吳昊恩+The Daniel Ho Trio</td>\n",
       "      <td>English</td>\n",
       "      <td>93.79</td>\n",
       "    </tr>\n",
       "    <tr>\n",
       "      <th>8</th>\n",
       "      <td>45358</td>\n",
       "      <td>愛唷</td>\n",
       "      <td>楊丞琳 (Rainie Yang)</td>\n",
       "      <td>Chinese</td>\n",
       "      <td>93.75</td>\n",
       "    </tr>\n",
       "    <tr>\n",
       "      <th>9</th>\n",
       "      <td>3018</td>\n",
       "      <td>3% [Solji Solo]</td>\n",
       "      <td>EXID</td>\n",
       "      <td>Korean</td>\n",
       "      <td>93.42</td>\n",
       "    </tr>\n",
       "    <tr>\n",
       "      <th>10</th>\n",
       "      <td>7075</td>\n",
       "      <td>O Fortuna (from ''Carmina Burana'')</td>\n",
       "      <td>The Piano Guys</td>\n",
       "      <td>English</td>\n",
       "      <td>93.20</td>\n",
       "    </tr>\n",
       "    <tr>\n",
       "      <th>11</th>\n",
       "      <td>27540</td>\n",
       "      <td>事到如今</td>\n",
       "      <td>喬幼</td>\n",
       "      <td>Chinese-2</td>\n",
       "      <td>92.94</td>\n",
       "    </tr>\n",
       "    <tr>\n",
       "      <th>12</th>\n",
       "      <td>2768</td>\n",
       "      <td>Day O</td>\n",
       "      <td>Children's Lullabies</td>\n",
       "      <td>English</td>\n",
       "      <td>92.69</td>\n",
       "    </tr>\n",
       "    <tr>\n",
       "      <th>13</th>\n",
       "      <td>31581</td>\n",
       "      <td>Wherever You Are</td>\n",
       "      <td>Kesha</td>\n",
       "      <td>English</td>\n",
       "      <td>92.35</td>\n",
       "    </tr>\n",
       "    <tr>\n",
       "      <th>14</th>\n",
       "      <td>11136</td>\n",
       "      <td>Interloper</td>\n",
       "      <td>Slipknot</td>\n",
       "      <td>English</td>\n",
       "      <td>92.26</td>\n",
       "    </tr>\n",
       "    <tr>\n",
       "      <th>15</th>\n",
       "      <td>17650</td>\n",
       "      <td>怎麼辦</td>\n",
       "      <td>S.H.E</td>\n",
       "      <td>Chinese</td>\n",
       "      <td>92.12</td>\n",
       "    </tr>\n",
       "    <tr>\n",
       "      <th>16</th>\n",
       "      <td>1996</td>\n",
       "      <td>我陪你哭</td>\n",
       "      <td>蕭亞軒 (Elva Hsiao)</td>\n",
       "      <td>Chinese</td>\n",
       "      <td>91.89</td>\n",
       "    </tr>\n",
       "    <tr>\n",
       "      <th>17</th>\n",
       "      <td>8276</td>\n",
       "      <td>歲月的批</td>\n",
       "      <td>翁立友</td>\n",
       "      <td>Chinese-2</td>\n",
       "      <td>91.48</td>\n",
       "    </tr>\n",
       "    <tr>\n",
       "      <th>18</th>\n",
       "      <td>60808</td>\n",
       "      <td>Predator</td>\n",
       "      <td>ZICO</td>\n",
       "      <td>Korean</td>\n",
       "      <td>91.45</td>\n",
       "    </tr>\n",
       "    <tr>\n",
       "      <th>19</th>\n",
       "      <td>25566</td>\n",
       "      <td>The Aftermath</td>\n",
       "      <td>証聲音樂圖書館 ECHO MUSIC</td>\n",
       "      <td>Korean</td>\n",
       "      <td>91.37</td>\n",
       "    </tr>\n",
       "  </tbody>\n",
       "</table>\n",
       "</div>"
      ],
      "text/plain": [
       "    song_id                            song_name  \\\n",
       "0     27305                                 相安無事   \n",
       "1     10052                                   天灰   \n",
       "2      6328                          CANDY CANDY   \n",
       "3      3065                   Once I Had A Laugh   \n",
       "4     37213                   Sonnakimikonnaboku   \n",
       "5     24783                          Season Song   \n",
       "6      7886                              Missing   \n",
       "7      3529                       Pure Happiness   \n",
       "8     45358                                   愛唷   \n",
       "9      3018                      3% [Solji Solo]   \n",
       "10     7075  O Fortuna (from ''Carmina Burana'')   \n",
       "11    27540                                 事到如今   \n",
       "12     2768                                Day O   \n",
       "13    31581                     Wherever You Are   \n",
       "14    11136                           Interloper   \n",
       "15    17650                                  怎麼辦   \n",
       "16     1996                                 我陪你哭   \n",
       "17     8276                                 歲月的批   \n",
       "18    60808                             Predator   \n",
       "19    25566                        The Aftermath   \n",
       "\n",
       "                            artist   language  like_probability(%)  \n",
       "0                 周柏豪 (Pakho Chau)  Chinese-3               100.00  \n",
       "1                            S.H.E    Chinese                98.54  \n",
       "2   Kyary Pamyu Pamyu (きゃりーぱみゅぱみゅ)   Japanese                98.37  \n",
       "3                      Norah Jones    English                96.47  \n",
       "4                    Thinking Dogs   Japanese                95.65  \n",
       "5               証聲音樂圖書館 ECHO MUSIC     Korean                94.67  \n",
       "6           Ayumi Hamasaki (浜崎あゆみ)   Japanese                93.79  \n",
       "7           吳昊恩+The Daniel Ho Trio    English                93.79  \n",
       "8                楊丞琳 (Rainie Yang)    Chinese                93.75  \n",
       "9                             EXID     Korean                93.42  \n",
       "10                  The Piano Guys    English                93.20  \n",
       "11                              喬幼  Chinese-2                92.94  \n",
       "12            Children's Lullabies    English                92.69  \n",
       "13                           Kesha    English                92.35  \n",
       "14                        Slipknot    English                92.26  \n",
       "15                           S.H.E    Chinese                92.12  \n",
       "16                蕭亞軒 (Elva Hsiao)    Chinese                91.89  \n",
       "17                             翁立友  Chinese-2                91.48  \n",
       "18                            ZICO     Korean                91.45  \n",
       "19              証聲音樂圖書館 ECHO MUSIC     Korean                91.37  "
      ]
     },
     "execution_count": 272,
     "metadata": {},
     "output_type": "execute_result"
    }
   ],
   "source": [
    "recommend_to_existing_user(577)"
   ]
  },
  {
   "cell_type": "markdown",
   "metadata": {},
   "source": [
    "It is quite difficult to judge whether the recommendation is correct or not, there is not automatic way to do so. Trying to gauge similarity with the user's previous liked songs is not a good evaluation method, since collaborative algorithms work on user similarities and not item similarities.\n",
    "\n",
    "The best recommenders use a hybrid of collaborative and content based approaches to provide hyper-personalized recommendations to users. A single company (e.g. Spotify) may use multiple trained models and algorithms across different clusters of users, based on what works best."
   ]
  },
  {
   "cell_type": "markdown",
   "metadata": {},
   "source": [
    "### 5.2 Recommendations for new users<a name=\"new\"></a>\n",
    "Having new users whose preference and historical information is not known is known as a **cold start problem**. There are a few ways of dealing with this, however the simplest is to have the new user search a few songs or artist he/she likes, and make recommendations based on item metadata for songs matching the ones the new user has selected. This is the same algorithm for [content-based recommendation](#content) demonstrated above.\n",
    "\n",
    "## 6.0 Conclusion <a name=\"conclusion\"></a>\n",
    "The model is ready for making recommendations. After this, I will make a Flask application using this model to have a browser interface where users can see their recommendations.\n",
    "\n",
    "In the industry, recommendation engines are far more complex and use multiple layers for prediction. Also, the models are trained and re-trained on new data continuously to keep the recommendations updated. There may be different trained models for geographic locations, age groups or even genders, as is best suited for the business.\n",
    "\n",
    "This project was a exercise to go over the basics on building a recommendation model, however having more (and cleaner) data and clear business directions the recommendations can be further improved and refined.\n",
    "\n",
    "I will serialize the model that I have finalized, to be used in the Flask application."
   ]
  },
  {
   "cell_type": "code",
   "execution_count": 206,
   "metadata": {},
   "outputs": [],
   "source": [
    "dump.dump('./SVD_model_dump.pkl', algo=svd)"
   ]
  }
 ],
 "metadata": {
  "kernelspec": {
   "display_name": "Python 3",
   "language": "python",
   "name": "python3"
  },
  "language_info": {
   "codemirror_mode": {
    "name": "ipython",
    "version": 3
   },
   "file_extension": ".py",
   "mimetype": "text/x-python",
   "name": "python",
   "nbconvert_exporter": "python",
   "pygments_lexer": "ipython3",
   "version": "3.7.3"
  }
 },
 "nbformat": 4,
 "nbformat_minor": 2
}
